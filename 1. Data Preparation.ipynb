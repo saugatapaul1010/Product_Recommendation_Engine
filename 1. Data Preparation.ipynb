{
 "cells": [
  {
   "cell_type": "code",
   "execution_count": 1,
   "id": "77249f01",
   "metadata": {},
   "outputs": [
    {
     "name": "stderr",
     "output_type": "stream",
     "text": [
      "/tmp/ipykernel_140808/3777615979.py:1: DeprecationWarning: Importing display from IPython.core.display is deprecated since IPython 7.14, please import from IPython display\n",
      "  from IPython.core.display import display, HTML\n"
     ]
    },
    {
     "data": {
      "text/html": [
       "<style>.container { width:100% !important; }</style>"
      ],
      "text/plain": [
       "<IPython.core.display.HTML object>"
      ]
     },
     "metadata": {},
     "output_type": "display_data"
    }
   ],
   "source": [
    "from IPython.core.display import display, HTML\n",
    "display(HTML(\"<style>.container { width:100% !important; }</style>\"))"
   ]
  },
  {
   "cell_type": "code",
   "execution_count": 2,
   "id": "6d0861c6",
   "metadata": {},
   "outputs": [],
   "source": [
    "import pandas as pd"
   ]
  },
  {
   "cell_type": "markdown",
   "id": "3e634632",
   "metadata": {},
   "source": [
    "# 1. Prepare Train Dataset"
   ]
  },
  {
   "cell_type": "markdown",
   "id": "9ddb4494",
   "metadata": {},
   "source": [
    "## Load the given Dataset"
   ]
  },
  {
   "cell_type": "code",
   "execution_count": 3,
   "id": "51c7fc18",
   "metadata": {},
   "outputs": [
    {
     "data": {
      "text/html": [
       "<div>\n",
       "<style scoped>\n",
       "    .dataframe tbody tr th:only-of-type {\n",
       "        vertical-align: middle;\n",
       "    }\n",
       "\n",
       "    .dataframe tbody tr th {\n",
       "        vertical-align: top;\n",
       "    }\n",
       "\n",
       "    .dataframe thead th {\n",
       "        text-align: right;\n",
       "    }\n",
       "</style>\n",
       "<table border=\"1\" class=\"dataframe\">\n",
       "  <thead>\n",
       "    <tr style=\"text-align: right;\">\n",
       "      <th></th>\n",
       "      <th>Customer_num</th>\n",
       "      <th>Tran_dt</th>\n",
       "      <th>Product_num</th>\n",
       "      <th>Tran_qty</th>\n",
       "    </tr>\n",
       "  </thead>\n",
       "  <tbody>\n",
       "    <tr>\n",
       "      <th>0</th>\n",
       "      <td>C_203152</td>\n",
       "      <td>2022-01-02</td>\n",
       "      <td>P_3365</td>\n",
       "      <td>0.135</td>\n",
       "    </tr>\n",
       "    <tr>\n",
       "      <th>1</th>\n",
       "      <td>C_1607154</td>\n",
       "      <td>2022-01-02</td>\n",
       "      <td>P_58</td>\n",
       "      <td>1.000</td>\n",
       "    </tr>\n",
       "    <tr>\n",
       "      <th>2</th>\n",
       "      <td>C_84518</td>\n",
       "      <td>2022-01-02</td>\n",
       "      <td>P_21295</td>\n",
       "      <td>1.000</td>\n",
       "    </tr>\n",
       "    <tr>\n",
       "      <th>3</th>\n",
       "      <td>C_2553711</td>\n",
       "      <td>2022-01-02</td>\n",
       "      <td>P_20576</td>\n",
       "      <td>1.000</td>\n",
       "    </tr>\n",
       "    <tr>\n",
       "      <th>4</th>\n",
       "      <td>C_2376922</td>\n",
       "      <td>2022-01-02</td>\n",
       "      <td>P_1095</td>\n",
       "      <td>2.000</td>\n",
       "    </tr>\n",
       "  </tbody>\n",
       "</table>\n",
       "</div>"
      ],
      "text/plain": [
       "  Customer_num    Tran_dt Product_num  Tran_qty\n",
       "0     C_203152 2022-01-02      P_3365     0.135\n",
       "1    C_1607154 2022-01-02        P_58     1.000\n",
       "2      C_84518 2022-01-02     P_21295     1.000\n",
       "3    C_2553711 2022-01-02     P_20576     1.000\n",
       "4    C_2376922 2022-01-02      P_1095     2.000"
      ]
     },
     "execution_count": 3,
     "metadata": {},
     "output_type": "execute_result"
    }
   ],
   "source": [
    "df = pd.read_csv(\"data/given_datasets/reco_assignment_training.csv\")\n",
    "df['Tran_dt'] = pd.to_datetime(df['Tran_dt'])\n",
    "df.head()"
   ]
  },
  {
   "cell_type": "markdown",
   "id": "4ffb5d7d",
   "metadata": {},
   "source": [
    "## Inspect the Dataset"
   ]
  },
  {
   "cell_type": "code",
   "execution_count": 4,
   "id": "fc0212bc",
   "metadata": {},
   "outputs": [
    {
     "name": "stdout",
     "output_type": "stream",
     "text": [
      "Number of purchase data:  444404\n",
      "Number of features:  4\n",
      "Feature Names:  ['Customer_num', 'Tran_dt', 'Product_num', 'Tran_qty']\n"
     ]
    }
   ],
   "source": [
    "#Basic information of the dataset\n",
    "print(\"Number of purchase data: \", df.shape[0])\n",
    "print(\"Number of features: \", df.shape[1])\n",
    "print(\"Feature Names: \", list(df.columns))"
   ]
  },
  {
   "cell_type": "code",
   "execution_count": 5,
   "id": "e6dd6b45",
   "metadata": {},
   "outputs": [
    {
     "name": "stdout",
     "output_type": "stream",
     "text": [
      "Does the dataset have any null values? -- False\n",
      "\n"
     ]
    }
   ],
   "source": [
    "#Checking dataset for any null values\n",
    "print(\"Does the dataset have any null values? -- {}\\n\".format(df.isnull().values.any()))"
   ]
  },
  {
   "cell_type": "code",
   "execution_count": 6,
   "id": "f7cac2b6",
   "metadata": {},
   "outputs": [
    {
     "name": "stdout",
     "output_type": "stream",
     "text": [
      "<class 'pandas.core.frame.DataFrame'>\n",
      "RangeIndex: 444404 entries, 0 to 444403\n",
      "Data columns (total 4 columns):\n",
      " #   Column        Non-Null Count   Dtype         \n",
      "---  ------        --------------   -----         \n",
      " 0   Customer_num  444404 non-null  object        \n",
      " 1   Tran_dt       444404 non-null  datetime64[ns]\n",
      " 2   Product_num   444404 non-null  object        \n",
      " 3   Tran_qty      444404 non-null  float64       \n",
      "dtypes: datetime64[ns](1), float64(1), object(2)\n",
      "memory usage: 13.6+ MB\n"
     ]
    }
   ],
   "source": [
    "#Basic information about the dataset\n",
    "df.info()"
   ]
  },
  {
   "cell_type": "code",
   "execution_count": 7,
   "id": "d8a0b577",
   "metadata": {},
   "outputs": [
    {
     "data": {
      "text/html": [
       "<div>\n",
       "<style scoped>\n",
       "    .dataframe tbody tr th:only-of-type {\n",
       "        vertical-align: middle;\n",
       "    }\n",
       "\n",
       "    .dataframe tbody tr th {\n",
       "        vertical-align: top;\n",
       "    }\n",
       "\n",
       "    .dataframe thead th {\n",
       "        text-align: right;\n",
       "    }\n",
       "</style>\n",
       "<table border=\"1\" class=\"dataframe\">\n",
       "  <thead>\n",
       "    <tr style=\"text-align: right;\">\n",
       "      <th></th>\n",
       "      <th>Tran_qty</th>\n",
       "    </tr>\n",
       "  </thead>\n",
       "  <tbody>\n",
       "    <tr>\n",
       "      <th>count</th>\n",
       "      <td>444404.000000</td>\n",
       "    </tr>\n",
       "    <tr>\n",
       "      <th>mean</th>\n",
       "      <td>1.146503</td>\n",
       "    </tr>\n",
       "    <tr>\n",
       "      <th>std</th>\n",
       "      <td>2.206800</td>\n",
       "    </tr>\n",
       "    <tr>\n",
       "      <th>min</th>\n",
       "      <td>0.005000</td>\n",
       "    </tr>\n",
       "    <tr>\n",
       "      <th>25%</th>\n",
       "      <td>1.000000</td>\n",
       "    </tr>\n",
       "    <tr>\n",
       "      <th>50%</th>\n",
       "      <td>1.000000</td>\n",
       "    </tr>\n",
       "    <tr>\n",
       "      <th>75%</th>\n",
       "      <td>1.000000</td>\n",
       "    </tr>\n",
       "    <tr>\n",
       "      <th>max</th>\n",
       "      <td>1000.000000</td>\n",
       "    </tr>\n",
       "  </tbody>\n",
       "</table>\n",
       "</div>"
      ],
      "text/plain": [
       "            Tran_qty\n",
       "count  444404.000000\n",
       "mean        1.146503\n",
       "std         2.206800\n",
       "min         0.005000\n",
       "25%         1.000000\n",
       "50%         1.000000\n",
       "75%         1.000000\n",
       "max      1000.000000"
      ]
     },
     "execution_count": 7,
     "metadata": {},
     "output_type": "execute_result"
    }
   ],
   "source": [
    "#Statistical description of the dataset\n",
    "df.describe()"
   ]
  },
  {
   "cell_type": "code",
   "execution_count": 8,
   "id": "b0662330",
   "metadata": {},
   "outputs": [
    {
     "name": "stdout",
     "output_type": "stream",
     "text": [
      "Number of duplicate entries present in the dataset:  99226\n"
     ]
    }
   ],
   "source": [
    "#Number of duplicate entries present in the dataset\n",
    "print(\"Number of duplicate entries present in the dataset: \",df.shape[0] - df.drop_duplicates().shape[0])"
   ]
  },
  {
   "cell_type": "code",
   "execution_count": 9,
   "id": "82d81c62",
   "metadata": {},
   "outputs": [
    {
     "data": {
      "text/html": [
       "<div>\n",
       "<style scoped>\n",
       "    .dataframe tbody tr th:only-of-type {\n",
       "        vertical-align: middle;\n",
       "    }\n",
       "\n",
       "    .dataframe tbody tr th {\n",
       "        vertical-align: top;\n",
       "    }\n",
       "\n",
       "    .dataframe thead th {\n",
       "        text-align: right;\n",
       "    }\n",
       "</style>\n",
       "<table border=\"1\" class=\"dataframe\">\n",
       "  <thead>\n",
       "    <tr style=\"text-align: right;\">\n",
       "      <th></th>\n",
       "      <th>Customer_num</th>\n",
       "      <th>Tran_dt</th>\n",
       "      <th>Product_num</th>\n",
       "      <th>Tran_qty</th>\n",
       "    </tr>\n",
       "  </thead>\n",
       "  <tbody>\n",
       "    <tr>\n",
       "      <th>19580</th>\n",
       "      <td>C_999487</td>\n",
       "      <td>2022-02-25</td>\n",
       "      <td>P_21270</td>\n",
       "      <td>1.0</td>\n",
       "    </tr>\n",
       "    <tr>\n",
       "      <th>56552</th>\n",
       "      <td>C_999487</td>\n",
       "      <td>2022-02-25</td>\n",
       "      <td>P_21270</td>\n",
       "      <td>1.0</td>\n",
       "    </tr>\n",
       "    <tr>\n",
       "      <th>118181</th>\n",
       "      <td>C_999487</td>\n",
       "      <td>2022-02-25</td>\n",
       "      <td>P_21270</td>\n",
       "      <td>1.0</td>\n",
       "    </tr>\n",
       "    <tr>\n",
       "      <th>167380</th>\n",
       "      <td>C_999487</td>\n",
       "      <td>2022-02-25</td>\n",
       "      <td>P_21270</td>\n",
       "      <td>1.0</td>\n",
       "    </tr>\n",
       "    <tr>\n",
       "      <th>217171</th>\n",
       "      <td>C_999487</td>\n",
       "      <td>2022-02-25</td>\n",
       "      <td>P_21270</td>\n",
       "      <td>1.0</td>\n",
       "    </tr>\n",
       "    <tr>\n",
       "      <th>229512</th>\n",
       "      <td>C_999487</td>\n",
       "      <td>2022-02-25</td>\n",
       "      <td>P_21270</td>\n",
       "      <td>1.0</td>\n",
       "    </tr>\n",
       "    <tr>\n",
       "      <th>253893</th>\n",
       "      <td>C_999487</td>\n",
       "      <td>2022-02-25</td>\n",
       "      <td>P_21270</td>\n",
       "      <td>1.0</td>\n",
       "    </tr>\n",
       "    <tr>\n",
       "      <th>315586</th>\n",
       "      <td>C_999487</td>\n",
       "      <td>2022-02-25</td>\n",
       "      <td>P_21270</td>\n",
       "      <td>1.0</td>\n",
       "    </tr>\n",
       "    <tr>\n",
       "      <th>328016</th>\n",
       "      <td>C_999487</td>\n",
       "      <td>2022-02-25</td>\n",
       "      <td>P_21270</td>\n",
       "      <td>1.0</td>\n",
       "    </tr>\n",
       "    <tr>\n",
       "      <th>364975</th>\n",
       "      <td>C_999487</td>\n",
       "      <td>2022-02-25</td>\n",
       "      <td>P_21270</td>\n",
       "      <td>1.0</td>\n",
       "    </tr>\n",
       "    <tr>\n",
       "      <th>377292</th>\n",
       "      <td>C_999487</td>\n",
       "      <td>2022-02-25</td>\n",
       "      <td>P_21270</td>\n",
       "      <td>1.0</td>\n",
       "    </tr>\n",
       "    <tr>\n",
       "      <th>377318</th>\n",
       "      <td>C_999487</td>\n",
       "      <td>2022-02-25</td>\n",
       "      <td>P_21270</td>\n",
       "      <td>1.0</td>\n",
       "    </tr>\n",
       "    <tr>\n",
       "      <th>414288</th>\n",
       "      <td>C_999487</td>\n",
       "      <td>2022-02-25</td>\n",
       "      <td>P_21270</td>\n",
       "      <td>1.0</td>\n",
       "    </tr>\n",
       "    <tr>\n",
       "      <th>426909</th>\n",
       "      <td>C_999487</td>\n",
       "      <td>2022-02-25</td>\n",
       "      <td>P_21270</td>\n",
       "      <td>1.0</td>\n",
       "    </tr>\n",
       "  </tbody>\n",
       "</table>\n",
       "</div>"
      ],
      "text/plain": [
       "       Customer_num    Tran_dt Product_num  Tran_qty\n",
       "19580      C_999487 2022-02-25     P_21270       1.0\n",
       "56552      C_999487 2022-02-25     P_21270       1.0\n",
       "118181     C_999487 2022-02-25     P_21270       1.0\n",
       "167380     C_999487 2022-02-25     P_21270       1.0\n",
       "217171     C_999487 2022-02-25     P_21270       1.0\n",
       "229512     C_999487 2022-02-25     P_21270       1.0\n",
       "253893     C_999487 2022-02-25     P_21270       1.0\n",
       "315586     C_999487 2022-02-25     P_21270       1.0\n",
       "328016     C_999487 2022-02-25     P_21270       1.0\n",
       "364975     C_999487 2022-02-25     P_21270       1.0\n",
       "377292     C_999487 2022-02-25     P_21270       1.0\n",
       "377318     C_999487 2022-02-25     P_21270       1.0\n",
       "414288     C_999487 2022-02-25     P_21270       1.0\n",
       "426909     C_999487 2022-02-25     P_21270       1.0"
      ]
     },
     "execution_count": 9,
     "metadata": {},
     "output_type": "execute_result"
    }
   ],
   "source": [
    "#Check if a customer has purchased the same product with same quantity multiple times, at multiple instances of time on the same day. \n",
    "#Manually inspected the dataset to observe that customer 'C_999487' has purchased product 'P_21270' 14 times on '2022-02-25', each time purchasing quantity 1. This may or may not be duplicate entries. \n",
    "df[(df['Customer_num'] == 'C_999487') & (df['Product_num'] == 'P_21270')]"
   ]
  },
  {
   "cell_type": "code",
   "execution_count": 10,
   "id": "ff17787f",
   "metadata": {},
   "outputs": [
    {
     "data": {
      "text/html": [
       "<div>\n",
       "<style scoped>\n",
       "    .dataframe tbody tr th:only-of-type {\n",
       "        vertical-align: middle;\n",
       "    }\n",
       "\n",
       "    .dataframe tbody tr th {\n",
       "        vertical-align: top;\n",
       "    }\n",
       "\n",
       "    .dataframe thead th {\n",
       "        text-align: right;\n",
       "    }\n",
       "</style>\n",
       "<table border=\"1\" class=\"dataframe\">\n",
       "  <thead>\n",
       "    <tr style=\"text-align: right;\">\n",
       "      <th></th>\n",
       "      <th>Customer_num</th>\n",
       "      <th>Tran_dt</th>\n",
       "      <th>Product_num</th>\n",
       "      <th>Tran_qty</th>\n",
       "    </tr>\n",
       "  </thead>\n",
       "  <tbody>\n",
       "    <tr>\n",
       "      <th>31318</th>\n",
       "      <td>C_981727</td>\n",
       "      <td>2022-02-20</td>\n",
       "      <td>P_5658</td>\n",
       "      <td>0.523</td>\n",
       "    </tr>\n",
       "    <tr>\n",
       "      <th>278019</th>\n",
       "      <td>C_981727</td>\n",
       "      <td>2022-02-20</td>\n",
       "      <td>P_5658</td>\n",
       "      <td>0.698</td>\n",
       "    </tr>\n",
       "  </tbody>\n",
       "</table>\n",
       "</div>"
      ],
      "text/plain": [
       "       Customer_num    Tran_dt Product_num  Tran_qty\n",
       "31318      C_981727 2022-02-20      P_5658     0.523\n",
       "278019     C_981727 2022-02-20      P_5658     0.698"
      ]
     },
     "execution_count": 10,
     "metadata": {},
     "output_type": "execute_result"
    }
   ],
   "source": [
    "#Check if a customer has purchased the same product with different quantity multiple times, at multiple instances of time on the same day. \n",
    "#Manually inspected the dataset to observe that customer 'C_981727' has purchased product 'P_5658' 2 times on '2022-02-20', each time purchasing a different quantity 1. \n",
    "df[(df['Customer_num'] == 'C_981727') & (df['Product_num'] == 'P_5658')]"
   ]
  },
  {
   "cell_type": "markdown",
   "id": "d25b3fbe",
   "metadata": {},
   "source": [
    "## Handling duplicate entries in the dataset\n",
    "\n",
    "Based on the above two observations on customers 'C_999487' and 'C_981727', I am assuming that these entries are actually not duplicates, but they correspond to separate purchases made by the customers at different instant of time on the same very day. Since timestamp information of purchase is not given, I have assumed that customer 'C_999487' has purchased product 'P_21270' 14 times on '2022-02-25', at different time of the day, each time purchasing the same quanity of product 'P_21270'. Similarly, 'C_981727' has made two purchases for product 'P_5658' on '2022-02-20', each time purchasing a different quantity. Based on this assumptions, I can't simply drop the duplicate entries from the dataset. Rather, I will take the aggregate sum of all the purchases made by a customer on a specific product on the same day, but at different instant of time.\n",
    "\n",
    "#### Examples\n",
    "1. Rather than having 14 same purchase entries for customer 'C_999487' purchasing product 'P_21270, I will add up the sum of the purchases made by them at different instant of time in the day. So the total quantity purchased by this customer is 14.\n",
    "2. Same goes for customer 'C_981727'. Instead of taking two different purchase entries for product 'P_5658', I will add the individual quantities of purchases made by this customer for the same product. Hence, the total purchase will be 1.221 (0.523+0.698) "
   ]
  },
  {
   "cell_type": "code",
   "execution_count": 11,
   "id": "c1964dc8",
   "metadata": {},
   "outputs": [
    {
     "data": {
      "text/html": [
       "<div>\n",
       "<style scoped>\n",
       "    .dataframe tbody tr th:only-of-type {\n",
       "        vertical-align: middle;\n",
       "    }\n",
       "\n",
       "    .dataframe tbody tr th {\n",
       "        vertical-align: top;\n",
       "    }\n",
       "\n",
       "    .dataframe thead th {\n",
       "        text-align: right;\n",
       "    }\n",
       "</style>\n",
       "<table border=\"1\" class=\"dataframe\">\n",
       "  <thead>\n",
       "    <tr style=\"text-align: right;\">\n",
       "      <th></th>\n",
       "      <th>Customer_num</th>\n",
       "      <th>Tran_dt</th>\n",
       "      <th>Product_num</th>\n",
       "      <th>Total_Tran_qty</th>\n",
       "    </tr>\n",
       "  </thead>\n",
       "  <tbody>\n",
       "    <tr>\n",
       "      <th>0</th>\n",
       "      <td>C_203152</td>\n",
       "      <td>2022-01-02</td>\n",
       "      <td>P_3365</td>\n",
       "      <td>0.135</td>\n",
       "    </tr>\n",
       "    <tr>\n",
       "      <th>1</th>\n",
       "      <td>C_1607154</td>\n",
       "      <td>2022-01-02</td>\n",
       "      <td>P_58</td>\n",
       "      <td>1.000</td>\n",
       "    </tr>\n",
       "    <tr>\n",
       "      <th>2</th>\n",
       "      <td>C_84518</td>\n",
       "      <td>2022-01-02</td>\n",
       "      <td>P_21295</td>\n",
       "      <td>3.000</td>\n",
       "    </tr>\n",
       "    <tr>\n",
       "      <th>3</th>\n",
       "      <td>C_2553711</td>\n",
       "      <td>2022-01-02</td>\n",
       "      <td>P_20576</td>\n",
       "      <td>1.000</td>\n",
       "    </tr>\n",
       "    <tr>\n",
       "      <th>4</th>\n",
       "      <td>C_2376922</td>\n",
       "      <td>2022-01-02</td>\n",
       "      <td>P_1095</td>\n",
       "      <td>2.000</td>\n",
       "    </tr>\n",
       "  </tbody>\n",
       "</table>\n",
       "</div>"
      ],
      "text/plain": [
       "  Customer_num    Tran_dt Product_num  Total_Tran_qty\n",
       "0     C_203152 2022-01-02      P_3365           0.135\n",
       "1    C_1607154 2022-01-02        P_58           1.000\n",
       "2      C_84518 2022-01-02     P_21295           3.000\n",
       "3    C_2553711 2022-01-02     P_20576           1.000\n",
       "4    C_2376922 2022-01-02      P_1095           2.000"
      ]
     },
     "execution_count": 11,
     "metadata": {},
     "output_type": "execute_result"
    }
   ],
   "source": [
    "#Creating a new column 'Total_Tran_qty', which denotes the total quantity of the same product purchased by the customer at different times on the same day.\n",
    "df['Total_Tran_qty'] = df.groupby(['Customer_num', 'Tran_dt', 'Product_num'])['Tran_qty'].transform('sum')\n",
    "\n",
    "#Dropping duplicate entries based on these columns to prepare the final data that will be used for EDA and training.\n",
    "df_actual = df.drop_duplicates(subset=['Customer_num', 'Tran_dt', 'Product_num', 'Total_Tran_qty'])\n",
    "\n",
    "#Dropping the column which we won't use further.\n",
    "df_actual = df_actual.drop(['Tran_qty'], axis=1)\n",
    "\n",
    "#Sort the dataset by time and save the data to be later used for EDA and Training Phase\n",
    "df_actual.sort_values(by = ['Tran_dt', 'Customer_num', 'Product_num', 'Total_Tran_qty'],ascending=[True, True, True, True])\n",
    "df_actual.to_csv('data/prepared_datasets_for_training_and_evaluation/reco_assignment_training_merged_duplicates.csv', index=None)\n",
    "df_actual.head()"
   ]
  },
  {
   "cell_type": "markdown",
   "id": "b2847994",
   "metadata": {},
   "source": [
    "# 2. Prepare Holdout Dataset"
   ]
  },
  {
   "cell_type": "markdown",
   "id": "3874d125",
   "metadata": {},
   "source": [
    "## Load the given Dataset"
   ]
  },
  {
   "cell_type": "code",
   "execution_count": 12,
   "id": "9dfaf793",
   "metadata": {},
   "outputs": [
    {
     "data": {
      "text/html": [
       "<div>\n",
       "<style scoped>\n",
       "    .dataframe tbody tr th:only-of-type {\n",
       "        vertical-align: middle;\n",
       "    }\n",
       "\n",
       "    .dataframe tbody tr th {\n",
       "        vertical-align: top;\n",
       "    }\n",
       "\n",
       "    .dataframe thead th {\n",
       "        text-align: right;\n",
       "    }\n",
       "</style>\n",
       "<table border=\"1\" class=\"dataframe\">\n",
       "  <thead>\n",
       "    <tr style=\"text-align: right;\">\n",
       "      <th></th>\n",
       "      <th>Customer_num</th>\n",
       "      <th>Tran_dt</th>\n",
       "      <th>Product_num</th>\n",
       "      <th>Tran_qty</th>\n",
       "    </tr>\n",
       "  </thead>\n",
       "  <tbody>\n",
       "    <tr>\n",
       "      <th>0</th>\n",
       "      <td>C_1967485</td>\n",
       "      <td>2022-01-02</td>\n",
       "      <td>P_4321</td>\n",
       "      <td>1.0</td>\n",
       "    </tr>\n",
       "    <tr>\n",
       "      <th>1</th>\n",
       "      <td>C_62367</td>\n",
       "      <td>2022-01-02</td>\n",
       "      <td>P_11092</td>\n",
       "      <td>1.0</td>\n",
       "    </tr>\n",
       "    <tr>\n",
       "      <th>2</th>\n",
       "      <td>C_2459818</td>\n",
       "      <td>2022-01-02</td>\n",
       "      <td>P_12854</td>\n",
       "      <td>1.0</td>\n",
       "    </tr>\n",
       "    <tr>\n",
       "      <th>3</th>\n",
       "      <td>C_851377</td>\n",
       "      <td>2022-01-02</td>\n",
       "      <td>P_9160</td>\n",
       "      <td>1.0</td>\n",
       "    </tr>\n",
       "    <tr>\n",
       "      <th>4</th>\n",
       "      <td>C_2351826</td>\n",
       "      <td>2022-01-02</td>\n",
       "      <td>P_17207</td>\n",
       "      <td>1.0</td>\n",
       "    </tr>\n",
       "  </tbody>\n",
       "</table>\n",
       "</div>"
      ],
      "text/plain": [
       "  Customer_num    Tran_dt Product_num  Tran_qty\n",
       "0    C_1967485 2022-01-02      P_4321       1.0\n",
       "1      C_62367 2022-01-02     P_11092       1.0\n",
       "2    C_2459818 2022-01-02     P_12854       1.0\n",
       "3     C_851377 2022-01-02      P_9160       1.0\n",
       "4    C_2351826 2022-01-02     P_17207       1.0"
      ]
     },
     "execution_count": 12,
     "metadata": {},
     "output_type": "execute_result"
    }
   ],
   "source": [
    "df_holdout = pd.read_csv(\"data/given_datasets/reco_assignment_holdout.csv\")\n",
    "df_holdout['Tran_dt'] = pd.to_datetime(df['Tran_dt'])\n",
    "df_holdout.head()"
   ]
  },
  {
   "cell_type": "markdown",
   "id": "6c354d71",
   "metadata": {},
   "source": [
    "## Inspect the Dataset"
   ]
  },
  {
   "cell_type": "code",
   "execution_count": 13,
   "id": "f0d78de8",
   "metadata": {},
   "outputs": [
    {
     "name": "stdout",
     "output_type": "stream",
     "text": [
      "Number of purchase data:  351397\n",
      "Number of features:  4\n",
      "Feature Names:  ['Customer_num', 'Tran_dt', 'Product_num', 'Tran_qty']\n"
     ]
    }
   ],
   "source": [
    "#Basic information of the dataset\n",
    "print(\"Number of purchase data: \", df_holdout.shape[0])\n",
    "print(\"Number of features: \", df_holdout.shape[1])\n",
    "print(\"Feature Names: \", list(df_holdout.columns))"
   ]
  },
  {
   "cell_type": "code",
   "execution_count": 14,
   "id": "1463b9ad",
   "metadata": {},
   "outputs": [
    {
     "name": "stdout",
     "output_type": "stream",
     "text": [
      "Does the dataset have any null values? -- False\n",
      "\n"
     ]
    }
   ],
   "source": [
    "#Checking dataset for any null values\n",
    "print(\"Does the dataset have any null values? -- {}\\n\".format(df_holdout.isnull().values.any()))"
   ]
  },
  {
   "cell_type": "code",
   "execution_count": 15,
   "id": "07d4fbbd",
   "metadata": {},
   "outputs": [
    {
     "name": "stdout",
     "output_type": "stream",
     "text": [
      "<class 'pandas.core.frame.DataFrame'>\n",
      "RangeIndex: 351397 entries, 0 to 351396\n",
      "Data columns (total 4 columns):\n",
      " #   Column        Non-Null Count   Dtype         \n",
      "---  ------        --------------   -----         \n",
      " 0   Customer_num  351397 non-null  object        \n",
      " 1   Tran_dt       351397 non-null  datetime64[ns]\n",
      " 2   Product_num   351397 non-null  object        \n",
      " 3   Tran_qty      351397 non-null  float64       \n",
      "dtypes: datetime64[ns](1), float64(1), object(2)\n",
      "memory usage: 10.7+ MB\n"
     ]
    }
   ],
   "source": [
    "#Basic information about the dataset\n",
    "df_holdout.info()"
   ]
  },
  {
   "cell_type": "code",
   "execution_count": 16,
   "id": "de3f2e4d",
   "metadata": {},
   "outputs": [
    {
     "data": {
      "text/html": [
       "<div>\n",
       "<style scoped>\n",
       "    .dataframe tbody tr th:only-of-type {\n",
       "        vertical-align: middle;\n",
       "    }\n",
       "\n",
       "    .dataframe tbody tr th {\n",
       "        vertical-align: top;\n",
       "    }\n",
       "\n",
       "    .dataframe thead th {\n",
       "        text-align: right;\n",
       "    }\n",
       "</style>\n",
       "<table border=\"1\" class=\"dataframe\">\n",
       "  <thead>\n",
       "    <tr style=\"text-align: right;\">\n",
       "      <th></th>\n",
       "      <th>Tran_qty</th>\n",
       "    </tr>\n",
       "  </thead>\n",
       "  <tbody>\n",
       "    <tr>\n",
       "      <th>count</th>\n",
       "      <td>351397.000000</td>\n",
       "    </tr>\n",
       "    <tr>\n",
       "      <th>mean</th>\n",
       "      <td>1.136690</td>\n",
       "    </tr>\n",
       "    <tr>\n",
       "      <th>std</th>\n",
       "      <td>1.754536</td>\n",
       "    </tr>\n",
       "    <tr>\n",
       "      <th>min</th>\n",
       "      <td>0.005000</td>\n",
       "    </tr>\n",
       "    <tr>\n",
       "      <th>25%</th>\n",
       "      <td>1.000000</td>\n",
       "    </tr>\n",
       "    <tr>\n",
       "      <th>50%</th>\n",
       "      <td>1.000000</td>\n",
       "    </tr>\n",
       "    <tr>\n",
       "      <th>75%</th>\n",
       "      <td>1.000000</td>\n",
       "    </tr>\n",
       "    <tr>\n",
       "      <th>max</th>\n",
       "      <td>850.000000</td>\n",
       "    </tr>\n",
       "  </tbody>\n",
       "</table>\n",
       "</div>"
      ],
      "text/plain": [
       "            Tran_qty\n",
       "count  351397.000000\n",
       "mean        1.136690\n",
       "std         1.754536\n",
       "min         0.005000\n",
       "25%         1.000000\n",
       "50%         1.000000\n",
       "75%         1.000000\n",
       "max       850.000000"
      ]
     },
     "execution_count": 16,
     "metadata": {},
     "output_type": "execute_result"
    }
   ],
   "source": [
    "#Statistical description of the dataset\n",
    "df_holdout.describe()"
   ]
  },
  {
   "cell_type": "code",
   "execution_count": 17,
   "id": "61b811bb",
   "metadata": {},
   "outputs": [
    {
     "name": "stdout",
     "output_type": "stream",
     "text": [
      "Number of duplicate entries present in the dataset:  3738\n"
     ]
    }
   ],
   "source": [
    "#Number of duplicate entries present in the dataset\n",
    "print(\"Number of duplicate entries present in the dataset: \",df_holdout.shape[0] - df_holdout.drop_duplicates().shape[0])"
   ]
  },
  {
   "cell_type": "markdown",
   "id": "c31b0a3f",
   "metadata": {},
   "source": [
    "## Handling duplicate entries in the dataset\n",
    "\n",
    "We will follow the same methodology we followed for preparing the training dataset."
   ]
  },
  {
   "cell_type": "code",
   "execution_count": 18,
   "id": "36bde3ff",
   "metadata": {},
   "outputs": [
    {
     "data": {
      "text/html": [
       "<div>\n",
       "<style scoped>\n",
       "    .dataframe tbody tr th:only-of-type {\n",
       "        vertical-align: middle;\n",
       "    }\n",
       "\n",
       "    .dataframe tbody tr th {\n",
       "        vertical-align: top;\n",
       "    }\n",
       "\n",
       "    .dataframe thead th {\n",
       "        text-align: right;\n",
       "    }\n",
       "</style>\n",
       "<table border=\"1\" class=\"dataframe\">\n",
       "  <thead>\n",
       "    <tr style=\"text-align: right;\">\n",
       "      <th></th>\n",
       "      <th>Customer_num</th>\n",
       "      <th>Tran_dt</th>\n",
       "      <th>Product_num</th>\n",
       "      <th>Total_Tran_qty</th>\n",
       "    </tr>\n",
       "  </thead>\n",
       "  <tbody>\n",
       "    <tr>\n",
       "      <th>0</th>\n",
       "      <td>C_1967485</td>\n",
       "      <td>2022-01-02</td>\n",
       "      <td>P_4321</td>\n",
       "      <td>1.0</td>\n",
       "    </tr>\n",
       "    <tr>\n",
       "      <th>1</th>\n",
       "      <td>C_62367</td>\n",
       "      <td>2022-01-02</td>\n",
       "      <td>P_11092</td>\n",
       "      <td>1.0</td>\n",
       "    </tr>\n",
       "    <tr>\n",
       "      <th>2</th>\n",
       "      <td>C_2459818</td>\n",
       "      <td>2022-01-02</td>\n",
       "      <td>P_12854</td>\n",
       "      <td>2.0</td>\n",
       "    </tr>\n",
       "    <tr>\n",
       "      <th>3</th>\n",
       "      <td>C_851377</td>\n",
       "      <td>2022-01-02</td>\n",
       "      <td>P_9160</td>\n",
       "      <td>1.0</td>\n",
       "    </tr>\n",
       "    <tr>\n",
       "      <th>4</th>\n",
       "      <td>C_2351826</td>\n",
       "      <td>2022-01-02</td>\n",
       "      <td>P_17207</td>\n",
       "      <td>1.0</td>\n",
       "    </tr>\n",
       "  </tbody>\n",
       "</table>\n",
       "</div>"
      ],
      "text/plain": [
       "  Customer_num    Tran_dt Product_num  Total_Tran_qty\n",
       "0    C_1967485 2022-01-02      P_4321             1.0\n",
       "1      C_62367 2022-01-02     P_11092             1.0\n",
       "2    C_2459818 2022-01-02     P_12854             2.0\n",
       "3     C_851377 2022-01-02      P_9160             1.0\n",
       "4    C_2351826 2022-01-02     P_17207             1.0"
      ]
     },
     "execution_count": 18,
     "metadata": {},
     "output_type": "execute_result"
    }
   ],
   "source": [
    "#Creating a new column 'Total_Tran_qty', which denotes the total quantity of the same product purchased by the customer at different times on the same day.\n",
    "df_holdout['Total_Tran_qty'] = df_holdout.groupby(['Customer_num', 'Tran_dt', 'Product_num'])['Tran_qty'].transform('sum')\n",
    "\n",
    "#Dropping duplicate entries based on these columns to prepare the final data that will be used for EDA and training.\n",
    "df_holdout_actual = df_holdout.drop_duplicates(subset=['Customer_num', 'Tran_dt', 'Product_num', 'Total_Tran_qty'])\n",
    "\n",
    "#Dropping the column which we won't use further.\n",
    "df_holdout_actual = df_holdout_actual.drop(['Tran_qty'], axis=1)\n",
    "\n",
    "#Sort the dataset by time and save the data to be later used for EDA and Training Phase\n",
    "df_holdout_actual.sort_values(by = ['Tran_dt', 'Customer_num', 'Product_num', 'Total_Tran_qty'],ascending=[True, True, True, True])\n",
    "df_holdout_actual.to_csv('data/prepared_datasets_for_training_and_evaluation/reco_assignment_holdout_merged_duplicates.csv', index=None)\n",
    "df_holdout_actual.head( )"
   ]
  }
 ],
 "metadata": {
  "kernelspec": {
   "display_name": "Python 3 (ipykernel)",
   "language": "python",
   "name": "python3"
  },
  "language_info": {
   "codemirror_mode": {
    "name": "ipython",
    "version": 3
   },
   "file_extension": ".py",
   "mimetype": "text/x-python",
   "name": "python",
   "nbconvert_exporter": "python",
   "pygments_lexer": "ipython3",
   "version": "3.8.13"
  }
 },
 "nbformat": 4,
 "nbformat_minor": 5
}
